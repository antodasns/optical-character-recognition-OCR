{
 "cells": [
  {
   "cell_type": "code",
   "execution_count": 46,
   "metadata": {},
   "outputs": [
    {
     "name": "stdout",
     "output_type": "stream",
     "text": [
      "Epoch 1/10\n",
      "15291/15291 [==============================] - 26s 2ms/sample - loss: 2.6698 - acc: 0.1887\n",
      "Epoch 2/10\n",
      "15291/15291 [==============================] - 23s 2ms/sample - loss: 1.1766 - acc: 0.6250\n",
      "Epoch 3/10\n",
      "15291/15291 [==============================] - 23s 2ms/sample - loss: 0.6511 - acc: 0.8019\n",
      "Epoch 4/10\n",
      "15291/15291 [==============================] - 24s 2ms/sample - loss: 0.4630 - acc: 0.8661\n",
      "Epoch 5/10\n",
      "15291/15291 [==============================] - 24s 2ms/sample - loss: 0.3626 - acc: 0.8951\n",
      "Epoch 6/10\n",
      "15291/15291 [==============================] - 25s 2ms/sample - loss: 0.2943 - acc: 0.9154\n",
      "Epoch 7/10\n",
      "15291/15291 [==============================] - 25s 2ms/sample - loss: 0.2538 - acc: 0.9268\n",
      "Epoch 8/10\n",
      "15291/15291 [==============================] - 26s 2ms/sample - loss: 0.2148 - acc: 0.9401\n",
      "Epoch 9/10\n",
      "15291/15291 [==============================] - 27s 2ms/sample - loss: 0.1854 - acc: 0.9470\n",
      "Epoch 10/10\n",
      "15291/15291 [==============================] - 27s 2ms/sample - loss: 0.1591 - acc: 0.9555\n"
     ]
    },
    {
     "data": {
      "text/plain": [
       "<tensorflow.python.keras.callbacks.History at 0x1b38d74ae80>"
      ]
     },
     "execution_count": 46,
     "metadata": {},
     "output_type": "execute_result"
    }
   ],
   "source": [
    "import tensorflow as tf\n",
    "from tensorflow.keras.models import Sequential\n",
    "from tensorflow.keras.layers import Dense,Dropout,Activation,Flatten,Conv2D,MaxPooling2D,LeakyReLU,BatchNormalization\n",
    "from tensorflow.python.keras.utils import np_utils\n",
    "import pickle\n",
    "import numpy as np\n",
    "x=pickle.load(open(\"x.pickle\",'rb'))\n",
    "y=pickle.load(open(\"y.pickle\",'rb'))\n",
    "x = x / 255\n",
    "y = np_utils.to_categorical(y)\n",
    "num_classes = y.shape[1]\n",
    "\n",
    "\n",
    "model=tf.keras.models.Sequential()\n",
    "model.add(Conv2D(32,(3,3),input_shape=x.shape[1:]))\n",
    "model.add(LeakyReLU(alpha=0.1))\n",
    "#model.add(BatchNormalization(axis=-1))\n",
    "model.add(MaxPooling2D(pool_size=(2,2)))\n",
    "\n",
    "\n",
    "model.add(Conv2D(64,(3,3)))\n",
    "model.add(LeakyReLU(alpha=0.1))\n",
    "#model.add(BatchNormalization(axis=-1))\n",
    "model.add(MaxPooling2D(pool_size=(2,2)))\n",
    "\n",
    "\n",
    "model.add(Conv2D(128,(3,3)))\n",
    "model.add(LeakyReLU(alpha=0.1))\n",
    "#model.add(BatchNormalization(axis=-1))\n",
    "model.add(MaxPooling2D(pool_size=(2,2)))\n",
    "\n",
    "\n",
    "model.add(Conv2D(256,(3,3)))\n",
    "model.add(LeakyReLU(alpha=0.1))\n",
    "#model.add(BatchNormalization(axis=-1))\n",
    "model.add(MaxPooling2D(pool_size=(2,2)))\n",
    "\n",
    "model.add(Dropout(0.2))\n",
    "\n",
    "model.add(Flatten())\n",
    "model.add(Dense(128))\n",
    "model.add(tf.keras.layers.Dense(num_classes,activation=tf.nn.softmax))\n",
    "\n",
    "model.compile(optimizer='adam',\n",
    "             loss='categorical_crossentropy',\n",
    "              metrics=['accuracy']\n",
    "             )\n",
    "\n",
    "\n",
    "\n",
    "# model = Sequential()\n",
    "# model.add(Conv2D(30, (5, 5), input_shape=x.shape[1:], activation='relu'))\n",
    "# model.add(MaxPooling2D())\n",
    "# model.add(Conv2D(15, (3, 3), activation='relu'))\n",
    "# model.add(MaxPooling2D())\n",
    "# model.add(Dropout(0.2))\n",
    "# model.add(Flatten())\n",
    "# model.add(Dense(128, activation='relu'))\n",
    "# model.add(Dense(50, activation='relu'))\n",
    "# model.add(Dense(num_classes, activation='softmax'))\n",
    "# model.compile(loss='categorical_crossentropy', optimizer='adam', metrics=['accuracy'])\n",
    "\n",
    "model.fit(x,y,epochs=10,validation_split=0.1,batch_size=100)"
   ]
  },
  {
   "cell_type": "code",
   "execution_count": 47,
   "metadata": {},
   "outputs": [],
   "source": [
    "model.save('model2.model')"
   ]
  },
  {
   "cell_type": "code",
   "execution_count": null,
   "metadata": {},
   "outputs": [],
   "source": []
  },
  {
   "cell_type": "code",
   "execution_count": null,
   "metadata": {},
   "outputs": [],
   "source": []
  },
  {
   "cell_type": "code",
   "execution_count": null,
   "metadata": {},
   "outputs": [],
   "source": []
  },
  {
   "cell_type": "code",
   "execution_count": null,
   "metadata": {},
   "outputs": [],
   "source": []
  },
  {
   "cell_type": "code",
   "execution_count": null,
   "metadata": {},
   "outputs": [],
   "source": []
  },
  {
   "cell_type": "code",
   "execution_count": null,
   "metadata": {},
   "outputs": [],
   "source": []
  },
  {
   "cell_type": "code",
   "execution_count": null,
   "metadata": {},
   "outputs": [],
   "source": []
  }
 ],
 "metadata": {
  "kernelspec": {
   "display_name": "Python 3",
   "language": "python",
   "name": "python3"
  },
  "language_info": {
   "codemirror_mode": {
    "name": "ipython",
    "version": 3
   },
   "file_extension": ".py",
   "mimetype": "text/x-python",
   "name": "python",
   "nbconvert_exporter": "python",
   "pygments_lexer": "ipython3",
   "version": "3.6.8"
  }
 },
 "nbformat": 4,
 "nbformat_minor": 2
}
